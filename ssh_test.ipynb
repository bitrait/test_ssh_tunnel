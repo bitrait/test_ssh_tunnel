{
 "cells": [
  {
   "cell_type": "code",
   "execution_count": 11,
   "metadata": {
    "collapsed": true
   },
   "outputs": [],
   "source": [
    "import subprocess\n",
    "import shlex\n",
    "import yaml\n",
    "import psycopg2\n",
    "import pandas as pd"
   ]
  },
  {
   "cell_type": "code",
   "execution_count": 21,
   "metadata": {},
   "outputs": [],
   "source": [
    "with open('config.yml', 'r') as ymlFile:\n",
    "    cfg = yaml.load(ymlFile)\n",
    "\n",
    "    host = cfg['test']['host']\n",
    "    user = cfg['test']['user']\n",
    "    password = cfg['test']['password']\n",
    "    database = cfg['test']['database']\n",
    "    port = cfg['test']['port']\n",
    "    \n",
    "conn=psycopg2.connect(dbname= database,\n",
    "                    host=host, \n",
    "                    port= port,\n",
    "                    user= user,\n",
    "                    password= password)"
   ]
  },
  {
   "cell_type": "code",
   "execution_count": 19,
   "metadata": {
    "collapsed": true
   },
   "outputs": [],
   "source": [
    "def test_tunnel(**kwargs):\n",
    "\n",
    "    localport = '5439'\n",
    "    remoteport = '5439'\n",
    "    user = 'ubuntu'\n",
    "    server = '54.236.32.199'\n",
    "#     key = Variable.get(\"key_file\")\n",
    "    identityfile = '/home/virajparekh/Code/Astronomer/rtr/ast-dpl'\n",
    "    sshTunnelCmd = \"ssh -N -L %s:10.20.2.111:%s -i %s %s@%s\" % (\n",
    "        localport, remoteport, identityfile, user, server\n",
    "    )\n",
    "    args = shlex.split(sshTunnelCmd)\n",
    "    tunnel = subprocess.Popen(args)\n",
    "    \n",
    "    print(tunnel)"
   ]
  },
  {
   "cell_type": "code",
   "execution_count": 20,
   "metadata": {},
   "outputs": [
    {
     "name": "stdout",
     "output_type": "stream",
     "text": [
      "<subprocess.Popen object at 0x7f6390328160>\n"
     ]
    }
   ],
   "source": [
    "m = test_tunnel()"
   ]
  },
  {
   "cell_type": "code",
   "execution_count": 10,
   "metadata": {},
   "outputs": [
    {
     "name": "stdout",
     "output_type": "stream",
     "text": [
      "virajpa+  2321  0.0  0.0  44924  5340 ?        S    16:55   0:00 ssh -N -L 5439:127.0.0.1:5439 -i /home/virajparekh/Code/Astronomer/rtr/ast-dpl ubuntu@54.236.32.199\n",
      "virajpa+  2325  0.0  0.0  14228   928 ?        S    16:55   0:00 grep ssh\n"
     ]
    }
   ],
   "source": [
    "%%bash\n",
    "ps aux | grep ssh"
   ]
  },
  {
   "cell_type": "code",
   "execution_count": 25,
   "metadata": {},
   "outputs": [],
   "source": [
    "df = pd.read_sql(\"SELECT department, gender FROM DB LIMIT 10\", conn)"
   ]
  },
  {
   "cell_type": "code",
   "execution_count": 26,
   "metadata": {},
   "outputs": [
    {
     "data": {
      "text/html": [
       "<div>\n",
       "<style scoped>\n",
       "    .dataframe tbody tr th:only-of-type {\n",
       "        vertical-align: middle;\n",
       "    }\n",
       "\n",
       "    .dataframe tbody tr th {\n",
       "        vertical-align: top;\n",
       "    }\n",
       "\n",
       "    .dataframe thead th {\n",
       "        text-align: right;\n",
       "    }\n",
       "</style>\n",
       "<table border=\"1\" class=\"dataframe\">\n",
       "  <thead>\n",
       "    <tr style=\"text-align: right;\">\n",
       "      <th></th>\n",
       "      <th>department</th>\n",
       "      <th>gender</th>\n",
       "    </tr>\n",
       "  </thead>\n",
       "  <tbody>\n",
       "    <tr>\n",
       "      <th>0</th>\n",
       "      <td>Foreclosure</td>\n",
       "      <td>Female</td>\n",
       "    </tr>\n",
       "    <tr>\n",
       "      <th>1</th>\n",
       "      <td>Lien Management</td>\n",
       "      <td>Male</td>\n",
       "    </tr>\n",
       "    <tr>\n",
       "      <th>2</th>\n",
       "      <td>Training</td>\n",
       "      <td>Male</td>\n",
       "    </tr>\n",
       "    <tr>\n",
       "      <th>3</th>\n",
       "      <td>General Consumer Recovery</td>\n",
       "      <td>Female</td>\n",
       "    </tr>\n",
       "    <tr>\n",
       "      <th>4</th>\n",
       "      <td>Account Research</td>\n",
       "      <td>Male</td>\n",
       "    </tr>\n",
       "    <tr>\n",
       "      <th>5</th>\n",
       "      <td>Finance</td>\n",
       "      <td>Female</td>\n",
       "    </tr>\n",
       "    <tr>\n",
       "      <th>6</th>\n",
       "      <td>General Mortgage Recovery</td>\n",
       "      <td>Female</td>\n",
       "    </tr>\n",
       "    <tr>\n",
       "      <th>7</th>\n",
       "      <td>General Mortgage Recovery</td>\n",
       "      <td>Male</td>\n",
       "    </tr>\n",
       "    <tr>\n",
       "      <th>8</th>\n",
       "      <td>General Mortgage Recovery</td>\n",
       "      <td>Female</td>\n",
       "    </tr>\n",
       "    <tr>\n",
       "      <th>9</th>\n",
       "      <td>General Consumer Recovery</td>\n",
       "      <td>Male</td>\n",
       "    </tr>\n",
       "  </tbody>\n",
       "</table>\n",
       "</div>"
      ],
      "text/plain": [
       "                  department  gender\n",
       "0                Foreclosure  Female\n",
       "1            Lien Management    Male\n",
       "2                   Training    Male\n",
       "3  General Consumer Recovery  Female\n",
       "4           Account Research    Male\n",
       "5                    Finance  Female\n",
       "6  General Mortgage Recovery  Female\n",
       "7  General Mortgage Recovery    Male\n",
       "8  General Mortgage Recovery  Female\n",
       "9  General Consumer Recovery    Male"
      ]
     },
     "execution_count": 26,
     "metadata": {},
     "output_type": "execute_result"
    }
   ],
   "source": [
    "df"
   ]
  },
  {
   "cell_type": "code",
   "execution_count": null,
   "metadata": {
    "collapsed": true
   },
   "outputs": [],
   "source": []
  }
 ],
 "metadata": {
  "kernelspec": {
   "display_name": "Python 3",
   "language": "python",
   "name": "python3"
  },
  "language_info": {
   "codemirror_mode": {
    "name": "ipython",
    "version": 3
   },
   "file_extension": ".py",
   "mimetype": "text/x-python",
   "name": "python",
   "nbconvert_exporter": "python",
   "pygments_lexer": "ipython3",
   "version": "3.6.3"
  }
 },
 "nbformat": 4,
 "nbformat_minor": 2
}
